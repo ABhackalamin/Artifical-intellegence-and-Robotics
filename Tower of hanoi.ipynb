{
 "cells": [
  {
   "cell_type": "code",
   "execution_count": 1,
   "metadata": {},
   "outputs": [
    {
     "name": "stdout",
     "output_type": "stream",
     "text": [
      "All the moves of Tower of Hanoi problem\n",
      "Move disk 1 from A to C\n",
      "Move disk 2 from A to B\n",
      "Move disk 1 from C to B\n",
      "Move disk 3 from A to C\n",
      "Move disk 1 from B to A\n",
      "Move disk 2 from B to C\n",
      "Move disk 1 from A to C\n"
     ]
    }
   ],
   "source": [
    "def tower_of_hanoi(n, source, auxiliary, destination):\n",
    "    if n > 0:\n",
    "        # Move n - 1 disks from source to auxiliary, using destination as      auxiliary\n",
    "        tower_of_hanoi(n - 1, source, destination, auxiliary)\n",
    "        \n",
    "        # Move the nth disk from source to destination\n",
    "        print(f\"Move disk {n} from {source} to {destination}\")\n",
    "        \n",
    "      # Move the n - 1 disks from auxiliary to destination, using source as           auxiliary\n",
    "        tower_of_hanoi(n - 1, auxiliary, source, destination)\n",
    "\n",
    "# Example usage\n",
    "print(\"All the moves of Tower of Hanoi problem\")\n",
    "num_disks = 3\n",
    "tower_of_hanoi(num_disks, 'A', 'B', 'C')\n"
   ]
  }
 ],
 "metadata": {
  "kernelspec": {
   "display_name": "Python 3",
   "language": "python",
   "name": "python3"
  },
  "language_info": {
   "codemirror_mode": {
    "name": "ipython",
    "version": 3
   },
   "file_extension": ".py",
   "mimetype": "text/x-python",
   "name": "python",
   "nbconvert_exporter": "python",
   "pygments_lexer": "ipython3",
   "version": "3.12.0"
  }
 },
 "nbformat": 4,
 "nbformat_minor": 2
}
