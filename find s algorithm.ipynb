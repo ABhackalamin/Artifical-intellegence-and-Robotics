{
 "cells": [
  {
   "cell_type": "code",
   "execution_count": 5,
   "metadata": {},
   "outputs": [
    {
     "name": "stdout",
     "output_type": "stream",
     "text": [
      "Final hypothesis: ['?', 'Warm', '?']\n"
     ]
    }
   ],
   "source": [
    "def find_s(training_data):\n",
    "    # Initialize the specific hypothesis with the first training instance\n",
    "    specific_hypothesis = training_data[0][:-1]\n",
    "\n",
    "    # Iterate through the training data\n",
    "    for instance in training_data:\n",
    "        x, y = instance[:-1], instance[-1]\n",
    "\n",
    "        # If the instance is positive, update the hypothesis\n",
    "        if y == 'Yes':\n",
    "            for i in range(len(specific_hypothesis)):\n",
    "                if x[i] != specific_hypothesis[i]:\n",
    "                    specific_hypothesis[i] = '?'\n",
    "\n",
    "    return specific_hypothesis\n",
    "\n",
    "# Example usage\n",
    "training_data = [\n",
    "    ['Sunny', 'Warm', 'mild','Yes'],\n",
    "    ['Rainy', 'Warm', 'mild','No'],\n",
    "    ['Sunny', 'Warm', 'mild','Yes'],\n",
    "    ['Sunny', 'Warm', 'normal','Yes'],\n",
    "    ['Rainy', 'Warm', 'mild','Yes']\n",
    "    \n",
    "]\n",
    "\n",
    "hypothesis = find_s(training_data)\n",
    "print(\"Final hypothesis:\", hypothesis)\n"
   ]
  }
 ],
 "metadata": {
  "kernelspec": {
   "display_name": "Python 3",
   "language": "python",
   "name": "python3"
  },
  "language_info": {
   "codemirror_mode": {
    "name": "ipython",
    "version": 3
   },
   "file_extension": ".py",
   "mimetype": "text/x-python",
   "name": "python",
   "nbconvert_exporter": "python",
   "pygments_lexer": "ipython3",
   "version": "3.12.0"
  }
 },
 "nbformat": 4,
 "nbformat_minor": 2
}
