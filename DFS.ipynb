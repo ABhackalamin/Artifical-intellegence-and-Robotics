{
 "cells": [
  {
   "cell_type": "code",
   "execution_count": 1,
   "metadata": {},
   "outputs": [
    {
     "name": "stdout",
     "output_type": "stream",
     "text": [
      "Depth-First Traversal starting from vertex 'A':\n",
      "0 1 2 3 4 "
     ]
    }
   ],
   "source": [
    "def dfs(graph, vertex, visited):\n",
    "    if vertex not in visited:\n",
    "        print(vertex, end=\" \")\n",
    "        visited.add(vertex)\n",
    "        for neighbor in graph[vertex]:\n",
    "            dfs(graph, neighbor, visited)\n",
    "\n",
    "# Example Usage\n",
    "graph = {\n",
    "    0: [1,2,3],\n",
    "    1: [0],\n",
    "    2: [0,3,4],\n",
    "    3: [0,2],\n",
    "    4: [2]\n",
    "    \n",
    "}\n",
    "\n",
    "visited = set()\n",
    "\n",
    "print(\"Depth-First Traversal starting from vertex 'A':\")\n",
    "dfs(graph, 0, visited)\n"
   ]
  }
 ],
 "metadata": {
  "kernelspec": {
   "display_name": "Python 3",
   "language": "python",
   "name": "python3"
  },
  "language_info": {
   "codemirror_mode": {
    "name": "ipython",
    "version": 3
   },
   "file_extension": ".py",
   "mimetype": "text/x-python",
   "name": "python",
   "nbconvert_exporter": "python",
   "pygments_lexer": "ipython3",
   "version": "3.12.0"
  }
 },
 "nbformat": 4,
 "nbformat_minor": 2
}
