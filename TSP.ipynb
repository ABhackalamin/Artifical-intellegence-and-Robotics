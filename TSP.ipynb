{
 "cells": [
  {
   "cell_type": "code",
   "execution_count": 1,
   "metadata": {},
   "outputs": [
    {
     "name": "stdout",
     "output_type": "stream",
     "text": [
      "\n",
      "Shortest Path: 1 2 4 3 1 \n",
      "Minimum Cost: 80\n"
     ]
    }
   ],
   "source": [
    "import numpy as np\n",
    "\n",
    "def travellingsalesman(c):\n",
    "    global cost\n",
    "    adj_vertex = 999\n",
    "    min_val = 999\n",
    "    visited[c] = 1\n",
    "    print((c + 1), end=\" \")\n",
    "    for k in range(n):\n",
    "        if (tsp_g[c][k] != 0) and (visited[k] == 0):\n",
    "            if tsp_g[c][k] < min_val:\n",
    "                min_val = tsp_g[c][k]\n",
    "                adj_vertex = k\n",
    "    if min_val != 999:\n",
    "        cost = cost + min_val\n",
    "    if adj_vertex == 999:\n",
    "        adj_vertex = 0\n",
    "        print((adj_vertex + 1), end=\" \")\n",
    "        cost = cost + tsp_g[c][adj_vertex]\n",
    "        return\n",
    "    travellingsalesman(adj_vertex)\n",
    "\n",
    "n = 4\n",
    "cost = 0\n",
    "visited = np.zeros(n, dtype=int)\n",
    "tsp_g = np.array([[0, 10, 15, 20],\n",
    "                  [10, 0, 35, 25],\n",
    "                  [15, 35, 0, 30],\n",
    "                  [20, 25, 30, 0]])\n",
    "\n",
    "print()\n",
    "print(\"Shortest Path:\", end=\" \")\n",
    "travellingsalesman(0)\n",
    "print()\n",
    "print(\"Minimum Cost:\", end=\" \")\n",
    "print(cost)\n"
   ]
  }
 ],
 "metadata": {
  "kernelspec": {
   "display_name": "Python 3",
   "language": "python",
   "name": "python3"
  },
  "language_info": {
   "codemirror_mode": {
    "name": "ipython",
    "version": 3
   },
   "file_extension": ".py",
   "mimetype": "text/x-python",
   "name": "python",
   "nbconvert_exporter": "python",
   "pygments_lexer": "ipython3",
   "version": "3.12.0"
  }
 },
 "nbformat": 4,
 "nbformat_minor": 2
}
