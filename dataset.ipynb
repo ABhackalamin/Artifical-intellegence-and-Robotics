{
 "cells": [
  {
   "cell_type": "code",
   "execution_count": 1,
   "metadata": {},
   "outputs": [
    {
     "name": "stdout",
     "output_type": "stream",
     "text": [
      "    Name  Age Gender  Marks\n",
      "0   John   25      M     85\n",
      "1   Jane   30      F     90\n",
      "2    Bob   22      M     75\n",
      "3  Alice   28      F     88\n",
      "4    Eve   24      F     92\n",
      "    Name  Age Gender  Marks\n",
      "0   John   25      M     85\n",
      "1   Jane   30      F     90\n",
      "2    Bob   22      M     75\n",
      "3  Alice   28      F     88\n",
      "4    Eve   24      F     92\n"
     ]
    }
   ],
   "source": [
    "import pandas as pd\n",
    "\n",
    "# Creating a dataset\n",
    "data = {\n",
    "    'Name': ['John', 'Jane', 'Bob', 'Alice', 'Eve'],\n",
    "    'Age': [25, 30, 22, 28, 24],\n",
    "    'Gender': ['M', 'F', 'M', 'F', 'F'],\n",
    "    'Marks': [85, 90, 75, 88, 92]\n",
    "}\n",
    "\n",
    "# Creating a DataFrame\n",
    "df = pd.DataFrame(data)\n",
    "\n",
    "# Saving the DataFrame to a CSV file\n",
    "df.to_csv('students_data.csv', index=False)\n",
    "\n",
    "# Loading the dataset back into a DataFrame\n",
    "loaded_df = pd.read_csv('students_data.csv')\n",
    "print(df)\n",
    "\n",
    "# Displaying the loaded DataFrame\n",
    "print(loaded_df)\n"
   ]
  },
  {
   "cell_type": "code",
   "execution_count": 3,
   "metadata": {},
   "outputs": [
    {
     "name": "stdout",
     "output_type": "stream",
     "text": [
      "Statistics for Age:\n",
      "Mean: 25.8\n",
      "Mode: 22\n",
      "Median: 25.0\n",
      "Variance: 10.2\n",
      "Standard Deviation: 3.1937438845342623\n",
      "\n",
      "Statistics for Marks:\n",
      "Mean: 86.0\n",
      "Mode: 75\n",
      "Median: 88.0\n",
      "Variance: 44.5\n",
      "Standard Deviation: 6.670832032063167\n"
     ]
    }
   ],
   "source": [
    "import pandas as pd\n",
    "\n",
    "# Load the dataset\n",
    "df = pd.read_csv('students_data.csv')\n",
    "\n",
    "# Calculations for Age\n",
    "age_mean = df['Age'].mean()\n",
    "age_mode = df['Age'].mode()[0]  # Mode can be multiple, so we take the first one\n",
    "age_median = df['Age'].median()\n",
    "age_variance = df['Age'].var()\n",
    "age_std_dev = df['Age'].std()\n",
    "\n",
    "# Calculations for Marks\n",
    "marks_mean = df['Marks'].mean()\n",
    "marks_mode = df['Marks'].mode()[0]  # Mode can be multiple, so we take the first one\n",
    "marks_median = df['Marks'].median()\n",
    "marks_variance = df['Marks'].var()\n",
    "marks_std_dev = df['Marks'].std()\n",
    "\n",
    "# Print the results\n",
    "print(f\"Statistics for Age:\")\n",
    "print(f\"Mean: {age_mean}\")\n",
    "print(f\"Mode: {age_mode}\")\n",
    "print(f\"Median: {age_median}\")\n",
    "print(f\"Variance: {age_variance}\")\n",
    "print(f\"Standard Deviation: {age_std_dev}\\n\")\n",
    "\n",
    "print(f\"Statistics for Marks:\")\n",
    "print(f\"Mean: {marks_mean}\")\n",
    "print(f\"Mode: {marks_mode}\")\n",
    "print(f\"Median: {marks_median}\")\n",
    "print(f\"Variance: {marks_variance}\")\n",
    "print(f\"Standard Deviation: {marks_std_dev}\")\n"
   ]
  },
  {
   "cell_type": "code",
   "execution_count": 22,
   "metadata": {},
   "outputs": [
    {
     "name": "stdout",
     "output_type": "stream",
     "text": [
      "         Name  Age Gender  Marks\n",
      "0      Alamin   34      M     87\n",
      "1       Rakib   56      M     88\n",
      "2        Rana   76      M     76\n",
      "3        Riaz   45      M     66\n",
      "4       Badsa   87      M     56\n",
      "5  Badsa Wife   46      M     78\n",
      "6        Puti   46      F     76\n",
      "7      Montri   76      F     78\n",
      "8       Gopal   23      M     90\n",
      "9        Kobi   45      M     56\n"
     ]
    }
   ],
   "source": [
    "import pandas as pd\n",
    "\n",
    "data={\n",
    "    'Name':['Alamin','Rakib','Rana','Riaz','Badsa','Badsa Wife','Puti','Montri','Gopal','Kobi'],\n",
    "    'Age':[34,56,76,45,87,46,46,76,23,45],\n",
    "    'Gender':['M','M','M','M','M','M','F','F','M','M'],\n",
    "    'Marks':[87,88,76,66,56,78,76,78,90,56]\n",
    "    }\n",
    "df=pd.DataFrame(data)\n",
    "\n",
    "df.to_csv('information.csv', index=False)\n",
    "loaded_df=pd.read_csv('information.csv')\n",
    "print(loaded_df)"
   ]
  },
  {
   "cell_type": "code",
   "execution_count": 37,
   "metadata": {},
   "outputs": [
    {
     "name": "stdout",
     "output_type": "stream",
     "text": [
      "         Name  Age Gender  Marks\n",
      "0      Alamin   34      M     87\n",
      "1       Rakib   56      M     88\n",
      "2        Rana   76      M     76\n",
      "3        Riaz   45      M     66\n",
      "4       Badsa   87      M     56\n",
      "5  Badsa Wife   46      M     78\n",
      "6        Puti   46      F     76\n",
      "7      Montri   76      F     78\n",
      "8       Gopal   23      M     90\n",
      "9        Kobi   45      M     56\n",
      "\n",
      "The mean of Age of all student :53.4\n",
      "The median of Age all student :46.0\n",
      "The mode of Age all student : 45\n",
      "The variance of Age all student :412.0444444444445\n",
      "The std of all the student is :20.298877910969477\n",
      "\n",
      "The mean of Marks of all student :75.1\n",
      "The median of Marks of student :77.0\n",
      "The mode of Marks of student :56 \n",
      "The varance of Marks of student :151.2111111111111\n",
      "The std of marks of all the student :12.296792716440784\n"
     ]
    }
   ],
   "source": [
    "import pandas as pd\n",
    "print(pd.read_csv('information.csv'))\n",
    "\n",
    "#mean\n",
    "print();\n",
    "age_mean=df['Age'].mean()\n",
    "print(f\"The mean of Age of all student :{age_mean}\")\n",
    "age_median=df['Age'].median()\n",
    "print(f\"The median of Age all student :{age_median}\")\n",
    "age_mode=df['Age'].mode()[0]\n",
    "print(f\"The mode of Age all student : {age_mode}\")\n",
    "\n",
    "age_variance=df['Age'].var()\n",
    "print(f\"The variance of Age all student :{age_variance}\")\n",
    "\n",
    "age_std_dev=df['Age'].std()\n",
    "print(f\"The std of all the student is :{age_std_dev}\")\n",
    "\n",
    "print()\n",
    "marks_mean=df['Marks'].mean()\n",
    "print(f\"The mean of Marks of all student :{marks_mean}\")\n",
    "marks_median=df['Marks'].median()\n",
    "print(f\"The median of Marks of student :{marks_median}\")\n",
    "marks_mode=df['Marks'].mode()[0]\n",
    "print(f\"The mode of Marks of student :{marks_mode} \")\n",
    "marks_variance=df['Marks'].var()\n",
    "print(f\"The varance of Marks of student :{marks_variance}\")\n",
    "marks_std_dev=df['Marks'].std()\n",
    "print(f\"The std of marks of all the student :{marks_std_dev}\")\n"
   ]
  }
 ],
 "metadata": {
  "kernelspec": {
   "display_name": "Python 3",
   "language": "python",
   "name": "python3"
  },
  "language_info": {
   "codemirror_mode": {
    "name": "ipython",
    "version": 3
   },
   "file_extension": ".py",
   "mimetype": "text/x-python",
   "name": "python",
   "nbconvert_exporter": "python",
   "pygments_lexer": "ipython3",
   "version": "3.12.0"
  }
 },
 "nbformat": 4,
 "nbformat_minor": 2
}
